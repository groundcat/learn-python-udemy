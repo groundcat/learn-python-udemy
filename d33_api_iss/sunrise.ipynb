{
 "cells": [
  {
   "cell_type": "code",
   "execution_count": 6,
   "outputs": [
    {
     "name": "stdout",
     "output_type": "stream",
     "text": [
      "{'results': {'sunrise': '4:36:10 AM', 'sunset': '7:25:42 PM', 'solar_noon': '12:00:56 PM', 'day_length': '14:49:32', 'civil_twilight_begin': '4:06:24 AM', 'civil_twilight_end': '7:55:28 PM', 'nautical_twilight_begin': '3:27:10 AM', 'nautical_twilight_end': '8:34:42 PM', 'astronomical_twilight_begin': '2:42:42 AM', 'astronomical_twilight_end': '9:19:10 PM'}, 'status': 'OK'}\n"
     ]
    }
   ],
   "source": [
    "import requests\n",
    "\n",
    "MY_LAT = 37.774929\n",
    "MY_LON = -122.419416\n",
    "\n",
    "parameters = {\n",
    "    'lat': MY_LAT,\n",
    "    'lon': MY_LON,\n",
    "    'format': 0,\n",
    "}\n",
    "\n",
    "response = requests.get('https://api.sunrise-sunset.org/json', params=parameters)\n",
    "response.raise_for_status()\n",
    "data = response.json()\n",
    "print(data)"
   ],
   "metadata": {
    "collapsed": false,
    "pycharm": {
     "name": "#%%\n"
    }
   }
  },
  {
   "cell_type": "code",
   "execution_count": 7,
   "outputs": [
    {
     "name": "stdout",
     "output_type": "stream",
     "text": [
      "4:36:10 AM\n",
      "7:25:42 PM\n"
     ]
    }
   ],
   "source": [
    "sunrise = data['results']['sunrise']\n",
    "sunset = data['results']['sunset']\n",
    "\n",
    "print(sunrise)\n",
    "print(sunset)"
   ],
   "metadata": {
    "collapsed": false,
    "pycharm": {
     "name": "#%%\n"
    }
   }
  },
  {
   "cell_type": "code",
   "execution_count": null,
   "outputs": [],
   "source": [],
   "metadata": {
    "collapsed": false,
    "pycharm": {
     "name": "#%%\n"
    }
   }
  }
 ],
 "metadata": {
  "kernelspec": {
   "display_name": "Python 3",
   "language": "python",
   "name": "python3"
  },
  "language_info": {
   "codemirror_mode": {
    "name": "ipython",
    "version": 2
   },
   "file_extension": ".py",
   "mimetype": "text/x-python",
   "name": "python",
   "nbconvert_exporter": "python",
   "pygments_lexer": "ipython2",
   "version": "2.7.6"
  }
 },
 "nbformat": 4,
 "nbformat_minor": 0
}