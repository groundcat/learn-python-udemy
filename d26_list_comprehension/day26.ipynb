{
 "cells": [
  {
   "cell_type": "markdown",
   "source": [
    "# List Comprehension"
   ],
   "metadata": {
    "collapsed": false,
    "pycharm": {
     "name": "#%% md\n"
    }
   }
  },
  {
   "cell_type": "code",
   "execution_count": 1,
   "outputs": [
    {
     "name": "stdout",
     "output_type": "stream",
     "text": [
      "[2, 4, 6, 8, 10, 12, 14, 16, 18, 20]\n"
     ]
    }
   ],
   "source": [
    "# List comprehension with numbers\n",
    "list = [1,2,3,4,5,6,7,8,9,10]\n",
    "new_list = [i*2 for i in list]\n",
    "print(new_list)"
   ],
   "metadata": {
    "collapsed": false,
    "pycharm": {
     "name": "#%%\n"
    }
   }
  },
  {
   "cell_type": "code",
   "execution_count": 2,
   "outputs": [
    {
     "name": "stdout",
     "output_type": "stream",
     "text": [
      "['J', 'O', 'H', 'N']\n"
     ]
    }
   ],
   "source": [
    "# List comprehension with letters\n",
    "name = \"John\"\n",
    "new_list = [i.upper() for i in name]\n",
    "print(new_list)"
   ],
   "metadata": {
    "collapsed": false,
    "pycharm": {
     "name": "#%%\n"
    }
   }
  },
  {
   "cell_type": "code",
   "execution_count": 3,
   "outputs": [
    {
     "name": "stdout",
     "output_type": "stream",
     "text": [
      "[2, 4, 6, 8]\n"
     ]
    }
   ],
   "source": [
    "# List comprehension with ranges\n",
    "new_list = [i*2 for i in range(1,5)]\n",
    "print(new_list)"
   ],
   "metadata": {
    "collapsed": false,
    "pycharm": {
     "name": "#%%\n"
    }
   }
  },
  {
   "cell_type": "markdown",
   "source": [
    "# Conditional List Comprehension"
   ],
   "metadata": {
    "collapsed": false,
    "pycharm": {
     "name": "#%% md\n"
    }
   }
  },
  {
   "cell_type": "code",
   "execution_count": 4,
   "outputs": [
    {
     "name": "stdout",
     "output_type": "stream",
     "text": [
      "['John', 'Bob', 'Mary', 'Jane']\n"
     ]
    }
   ],
   "source": [
    "names = [\"John\", \"Bob\", \"Mary\", \"Jane\", \"Freddie\"]\n",
    "short_names = [name for name in names if len(name) < 5]\n",
    "print(short_names)"
   ],
   "metadata": {
    "collapsed": false,
    "pycharm": {
     "name": "#%%\n"
    }
   }
  },
  {
   "cell_type": "markdown",
   "source": [
    "# Dictionary Comprehension\n",
    "\n",
    "Example:\n",
    "```\n",
    "new_dict = {new_key: new_value for key, value in dict.items() if condition}\n",
    "```"
   ],
   "metadata": {
    "collapsed": false,
    "pycharm": {
     "name": "#%% md\n"
    }
   }
  },
  {
   "cell_type": "code",
   "execution_count": 5,
   "outputs": [
    {
     "name": "stdout",
     "output_type": "stream",
     "text": [
      "{'John': 84, 'Bob': 25, 'Mary': 58, 'Jane': 38, 'Freddie': 25, 'Sally': 17, 'Sam': 73, 'Sue': 88, 'Tony': 85}\n"
     ]
    }
   ],
   "source": [
    "import random\n",
    "names = [\"John\", \"Bob\", \"Mary\", \"Jane\", \"Freddie\", \"Sally\", \"Sam\", \"Sue\", \"Tony\"]\n",
    "student_scores = {student: random.randint(0, 100) for student in names}\n",
    "print(student_scores)"
   ],
   "metadata": {
    "collapsed": false,
    "pycharm": {
     "name": "#%%\n"
    }
   }
  },
  {
   "cell_type": "code",
   "execution_count": 6,
   "outputs": [
    {
     "name": "stdout",
     "output_type": "stream",
     "text": [
      "{'John': 84, 'Mary': 58, 'Sam': 73, 'Sue': 88, 'Tony': 85}\n"
     ]
    }
   ],
   "source": [
    "passed_students = {student: score for (student, score) in student_scores.items() if score > 50}\n",
    "print(passed_students)"
   ],
   "metadata": {
    "collapsed": false,
    "pycharm": {
     "name": "#%%\n"
    }
   }
  },
  {
   "cell_type": "markdown",
   "source": [
    "# Iterate over a Pandas DataFrame using .iterrows()\n",
    "\n",
    "Example:\n",
    "```\n",
    "{new_key: new_value for (index, row) in df.iterrows() if condition}\n",
    "```"
   ],
   "metadata": {
    "collapsed": false,
    "pycharm": {
     "name": "#%% md\n"
    }
   }
  },
  {
   "cell_type": "code",
   "execution_count": 7,
   "outputs": [
    {
     "name": "stdout",
     "output_type": "stream",
     "text": [
      "      name  score\n",
      "0     John     81\n",
      "1      Bob     27\n",
      "2     Mary     43\n",
      "3     Jane     15\n",
      "4  Freddie     63\n",
      "5    Sally     77\n",
      "6      Sam     37\n",
      "7      Sue     77\n",
      "8     Tony     88\n"
     ]
    }
   ],
   "source": [
    "import pandas as pd\n",
    "\n",
    "# Create a Pandas DataFrame\n",
    "student_dict = {\n",
    "    \"name\": [\"John\", \"Bob\", \"Mary\", \"Jane\", \"Freddie\", \"Sally\", \"Sam\", \"Sue\", \"Tony\"],\n",
    "    \"score\": [random.randint(0, 100) for _ in range(9)]\n",
    "}\n",
    "student_df = pd.DataFrame(student_dict)\n",
    "print(student_df)"
   ],
   "metadata": {
    "collapsed": false,
    "pycharm": {
     "name": "#%%\n"
    }
   }
  },
  {
   "cell_type": "code",
   "execution_count": 8,
   "outputs": [
    {
     "name": "stdout",
     "output_type": "stream",
     "text": [
      "name     John\n",
      "score      81\n",
      "Name: 0, dtype: object\n",
      "name     Bob\n",
      "score     27\n",
      "Name: 1, dtype: object\n",
      "name     Mary\n",
      "score      43\n",
      "Name: 2, dtype: object\n",
      "name     Jane\n",
      "score      15\n",
      "Name: 3, dtype: object\n",
      "name     Freddie\n",
      "score         63\n",
      "Name: 4, dtype: object\n",
      "name     Sally\n",
      "score       77\n",
      "Name: 5, dtype: object\n",
      "name     Sam\n",
      "score     37\n",
      "Name: 6, dtype: object\n",
      "name     Sue\n",
      "score     77\n",
      "Name: 7, dtype: object\n",
      "name     Tony\n",
      "score      88\n",
      "Name: 8, dtype: object\n"
     ]
    }
   ],
   "source": [
    "# Loop over the DataFrame\n",
    "for (index, row) in student_df.iterrows():\n",
    "    print(row)"
   ],
   "metadata": {
    "collapsed": false,
    "pycharm": {
     "name": "#%%\n"
    }
   }
  },
  {
   "cell_type": "code",
   "execution_count": 9,
   "outputs": [
    {
     "name": "stdout",
     "output_type": "stream",
     "text": [
      "81\n",
      "27\n",
      "43\n",
      "15\n",
      "63\n",
      "77\n",
      "37\n",
      "77\n",
      "88\n"
     ]
    }
   ],
   "source": [
    "# Loop over the DataFrame\n",
    "for (index, row) in student_df.iterrows():\n",
    "    print(row[\"score\"])"
   ],
   "metadata": {
    "collapsed": false,
    "pycharm": {
     "name": "#%%\n"
    }
   }
  },
  {
   "cell_type": "code",
   "execution_count": 10,
   "outputs": [],
   "source": [
    "# Loop over the DataFrame\n",
    "for (index, row) in student_df.iterrows():\n",
    "    if row.name == \"Bob\":\n",
    "        print(row.score)"
   ],
   "metadata": {
    "collapsed": false,
    "pycharm": {
     "name": "#%%\n"
    }
   }
  }
 ],
 "metadata": {
  "kernelspec": {
   "display_name": "Python 3",
   "language": "python",
   "name": "python3"
  },
  "language_info": {
   "codemirror_mode": {
    "name": "ipython",
    "version": 2
   },
   "file_extension": ".py",
   "mimetype": "text/x-python",
   "name": "python",
   "nbconvert_exporter": "python",
   "pygments_lexer": "ipython2",
   "version": "2.7.6"
  }
 },
 "nbformat": 4,
 "nbformat_minor": 0
}