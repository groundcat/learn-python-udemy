{
 "cells": [
  {
   "cell_type": "markdown",
   "source": [
    "# Error Handling"
   ],
   "metadata": {
    "collapsed": false,
    "pycharm": {
     "name": "#%% md\n"
    }
   }
  },
  {
   "cell_type": "code",
   "execution_count": 1,
   "metadata": {
    "collapsed": true,
    "pycharm": {
     "name": "#%%\n"
    }
   },
   "outputs": [],
   "source": [
    "# Four key steps to error handling in Python\n",
    "\n",
    "try:\n",
    "    pass  # do something\n",
    "except:\n",
    "    pass  # handle the error\n",
    "else:\n",
    "    pass  # do something if there is no error\n",
    "finally:\n",
    "    pass  # do something regardless of error\n"
   ]
  },
  {
   "cell_type": "code",
   "execution_count": 2,
   "outputs": [],
   "source": [
    "try:\n",
    "    # Open a file that doesn't exist\n",
    "    file = open('myfile.txt')\n",
    "\n",
    "except:\n",
    "    print('Error opening file')\n"
   ],
   "metadata": {
    "collapsed": false,
    "pycharm": {
     "name": "#%%\n"
    }
   }
  },
  {
   "cell_type": "markdown",
   "source": [
    "## Catch a specific error"
   ],
   "metadata": {
    "collapsed": false,
    "pycharm": {
     "name": "#%% md\n"
    }
   }
  },
  {
   "cell_type": "code",
   "execution_count": 3,
   "outputs": [
    {
     "name": "stdout",
     "output_type": "stream",
     "text": [
      "Key error 'key2'\n",
      "Closing file\n"
     ]
    }
   ],
   "source": [
    "try:\n",
    "    # Open a file that doesn't exist\n",
    "    file = open('myfile.txt')\n",
    "\n",
    "    # Get a key that doesn't exist\n",
    "    dict = {'key': 'value'}\n",
    "    print(dict['key2'])\n",
    "\n",
    "except FileNotFoundError:\n",
    "    # Create the file\n",
    "    print('File not found, creating file')\n",
    "    file = open('myfile.txt', 'w')\n",
    "\n",
    "except KeyError as e:\n",
    "    print(f'Key error {e}')\n",
    "\n",
    "else:\n",
    "    print('No error')\n",
    "\n",
    "finally:\n",
    "    print('Closing file')\n",
    "    file.close()"
   ],
   "metadata": {
    "collapsed": false,
    "pycharm": {
     "name": "#%%\n"
    }
   }
  },
  {
   "cell_type": "markdown",
   "source": [
    "## IndexError"
   ],
   "metadata": {
    "collapsed": false,
    "pycharm": {
     "name": "#%% md\n"
    }
   }
  },
  {
   "cell_type": "code",
   "execution_count": 4,
   "outputs": [
    {
     "name": "stdout",
     "output_type": "stream",
     "text": [
      "Enjoy your Orange pie\n",
      "No pie for you\n"
     ]
    }
   ],
   "source": [
    "fruits = [\"Apple\", \"Pear\", \"Orange\"]\n",
    "\n",
    "#TODO: Catch the exception and make sure the code runs without crashing.\n",
    "def make_pie(index):\n",
    "    try:\n",
    "        fruit = fruits[index]\n",
    "    except IndexError:\n",
    "        print(\"No pie for you\")\n",
    "    else:\n",
    "        print(f\"Enjoy your {fruit} pie\")\n",
    "\n",
    "make_pie(2)\n",
    "\n",
    "make_pie(4)\n"
   ],
   "metadata": {
    "collapsed": false,
    "pycharm": {
     "name": "#%%\n"
    }
   }
  },
  {
   "cell_type": "markdown",
   "source": [
    "## KeyError"
   ],
   "metadata": {
    "collapsed": false,
    "pycharm": {
     "name": "#%% md\n"
    }
   }
  },
  {
   "cell_type": "code",
   "execution_count": 5,
   "outputs": [
    {
     "name": "stdout",
     "output_type": "stream",
     "text": [
      "86\n"
     ]
    }
   ],
   "source": [
    "facebook_posts = [\n",
    "    {'Likes': 21, 'Comments': 2},\n",
    "    {'Likes': 13, 'Comments': 2, 'Shares': 1},\n",
    "    {'Likes': 33, 'Comments': 8, 'Shares': 3},\n",
    "    {'Comments': 4, 'Shares': 2},\n",
    "    {'Comments': 1, 'Shares': 1},\n",
    "    {'Likes': 19, 'Comments': 3}\n",
    "]\n",
    "\n",
    "total_likes = 0\n",
    "\n",
    "for post in facebook_posts:\n",
    "\n",
    "    try:\n",
    "        total_likes = total_likes + post['Likes']\n",
    "\n",
    "    except KeyError:\n",
    "        total_likes += 0\n",
    "\n",
    "\n",
    "print(total_likes)\n"
   ],
   "metadata": {
    "collapsed": false,
    "pycharm": {
     "name": "#%%\n"
    }
   }
  },
  {
   "cell_type": "markdown",
   "source": [
    "# Raise your own exception"
   ],
   "metadata": {
    "collapsed": false,
    "pycharm": {
     "name": "#%% md\n"
    }
   }
  },
  {
   "cell_type": "code",
   "execution_count": 6,
   "outputs": [
    {
     "ename": "TypeError",
     "evalue": "",
     "output_type": "error",
     "traceback": [
      "\u001B[0;31m---------------------------------------------------------------------------\u001B[0m",
      "\u001B[0;31mTypeError\u001B[0m                                 Traceback (most recent call last)",
      "Input \u001B[0;32mIn [6]\u001B[0m, in \u001B[0;36m<cell line: 1>\u001B[0;34m()\u001B[0m\n\u001B[0;32m----> 1\u001B[0m \u001B[38;5;28;01mraise\u001B[39;00m \u001B[38;5;167;01mTypeError\u001B[39;00m\n",
      "\u001B[0;31mTypeError\u001B[0m: "
     ]
    }
   ],
   "source": [
    "raise TypeError"
   ],
   "metadata": {
    "collapsed": false,
    "pycharm": {
     "name": "#%%\n"
    }
   }
  },
  {
   "cell_type": "code",
   "execution_count": 7,
   "outputs": [
    {
     "ename": "ValueError",
     "evalue": "Height is too high",
     "output_type": "error",
     "traceback": [
      "\u001B[0;31m---------------------------------------------------------------------------\u001B[0m",
      "\u001B[0;31mValueError\u001B[0m                                Traceback (most recent call last)",
      "Input \u001B[0;32mIn [7]\u001B[0m, in \u001B[0;36m<cell line: 4>\u001B[0;34m()\u001B[0m\n\u001B[1;32m      2\u001B[0m weight \u001B[38;5;241m=\u001B[39m \u001B[38;5;241m67\u001B[39m\n\u001B[1;32m      4\u001B[0m \u001B[38;5;28;01mif\u001B[39;00m height \u001B[38;5;241m>\u001B[39m \u001B[38;5;241m3\u001B[39m:\n\u001B[0;32m----> 5\u001B[0m     \u001B[38;5;28;01mraise\u001B[39;00m \u001B[38;5;167;01mValueError\u001B[39;00m(\u001B[38;5;124m'\u001B[39m\u001B[38;5;124mHeight is too high\u001B[39m\u001B[38;5;124m'\u001B[39m)\n\u001B[1;32m      7\u001B[0m bmi \u001B[38;5;241m=\u001B[39m weight \u001B[38;5;241m/\u001B[39m (height \u001B[38;5;241m*\u001B[39m\u001B[38;5;241m*\u001B[39m \u001B[38;5;241m2\u001B[39m)\n\u001B[1;32m      8\u001B[0m \u001B[38;5;28mprint\u001B[39m(bmi)\n",
      "\u001B[0;31mValueError\u001B[0m: Height is too high"
     ]
    }
   ],
   "source": [
    "height = 45\n",
    "weight = 67\n",
    "\n",
    "if height > 3:\n",
    "    raise ValueError('Height is too high')\n",
    "\n",
    "bmi = weight / (height ** 2)\n",
    "print(bmi)"
   ],
   "metadata": {
    "collapsed": false,
    "pycharm": {
     "name": "#%%\n"
    }
   }
  },
  {
   "cell_type": "code",
   "execution_count": null,
   "outputs": [],
   "source": [],
   "metadata": {
    "collapsed": false,
    "pycharm": {
     "name": "#%%\n"
    }
   }
  }
 ],
 "metadata": {
  "kernelspec": {
   "display_name": "Python 3",
   "language": "python",
   "name": "python3"
  },
  "language_info": {
   "codemirror_mode": {
    "name": "ipython",
    "version": 2
   },
   "file_extension": ".py",
   "mimetype": "text/x-python",
   "name": "python",
   "nbconvert_exporter": "python",
   "pygments_lexer": "ipython2",
   "version": "2.7.6"
  }
 },
 "nbformat": 4,
 "nbformat_minor": 0
}