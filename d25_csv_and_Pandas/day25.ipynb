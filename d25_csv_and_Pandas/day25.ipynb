{
 "cells": [
  {
   "cell_type": "markdown",
   "source": [
    "# Read CSV file"
   ],
   "metadata": {
    "collapsed": false,
    "pycharm": {
     "name": "#%% md\n"
    }
   }
  },
  {
   "cell_type": "code",
   "execution_count": 1,
   "outputs": [
    {
     "name": "stdout",
     "output_type": "stream",
     "text": [
      "['day,temp,condition\\n', 'Monday,12,Sunny\\n', 'Tuesday,14,Rain\\n', 'Wednesday,15,Rain\\n', 'Thursday,14,Cloudy\\n', 'Friday,21,Sunny\\n', 'Saturday,22,Sunny\\n', 'Sunday,24,Sunny']\n"
     ]
    }
   ],
   "source": [
    "with open(\"weather_data.csv\", \"r\") as f:\n",
    "    data = f.readlines()  # create a list of lines from the file\n",
    "    print(data)"
   ],
   "metadata": {
    "collapsed": false,
    "pycharm": {
     "name": "#%%\n"
    }
   }
  },
  {
   "cell_type": "code",
   "execution_count": 2,
   "outputs": [
    {
     "name": "stdout",
     "output_type": "stream",
     "text": [
      "<_csv.reader object at 0x000001CA4B98A860>\n",
      "['temp', '12', '14', '15', '14', '21', '22', '24']\n"
     ]
    }
   ],
   "source": [
    "import csv\n",
    "\n",
    "with open(\"weather_data.csv\", \"r\") as f:\n",
    "    data = csv.reader(f)\n",
    "    print(data)\n",
    "\n",
    "    temperatures = []\n",
    "\n",
    "    for row in data:\n",
    "        temperatures.append(row[1])\n",
    "\n",
    "print(temperatures)"
   ],
   "metadata": {
    "collapsed": false,
    "pycharm": {
     "name": "#%%\n"
    }
   }
  },
  {
   "cell_type": "markdown",
   "source": [
    "# Use Pandas to read CSV file"
   ],
   "metadata": {
    "collapsed": false,
    "pycharm": {
     "name": "#%% md\n"
    }
   }
  },
  {
   "cell_type": "code",
   "execution_count": 3,
   "outputs": [],
   "source": [
    "import pandas as pd\n",
    "\n",
    "data = pd.read_csv(\"weather_data.csv\")"
   ],
   "metadata": {
    "collapsed": false,
    "pycharm": {
     "name": "#%%\n"
    }
   }
  },
  {
   "cell_type": "code",
   "execution_count": 4,
   "outputs": [
    {
     "name": "stdout",
     "output_type": "stream",
     "text": [
      "         day  temp condition\n",
      "0     Monday    12     Sunny\n",
      "1    Tuesday    14      Rain\n",
      "2  Wednesday    15      Rain\n",
      "3   Thursday    14    Cloudy\n",
      "4     Friday    21     Sunny\n",
      "5   Saturday    22     Sunny\n",
      "6     Sunday    24     Sunny\n"
     ]
    }
   ],
   "source": [
    "# This will print the 'DataFrame' object\n",
    "print(data)"
   ],
   "metadata": {
    "collapsed": false,
    "pycharm": {
     "name": "#%%\n"
    }
   }
  },
  {
   "cell_type": "code",
   "execution_count": 5,
   "outputs": [
    {
     "name": "stdout",
     "output_type": "stream",
     "text": [
      "0    12\n",
      "1    14\n",
      "2    15\n",
      "3    14\n",
      "4    21\n",
      "5    22\n",
      "6    24\n",
      "Name: temp, dtype: int64\n"
     ]
    }
   ],
   "source": [
    "# This will print a 'Series' object (a list of temperature values)\n",
    "print(data[\"temp\"])"
   ],
   "metadata": {
    "collapsed": false,
    "pycharm": {
     "name": "#%%\n"
    }
   }
  },
  {
   "cell_type": "code",
   "execution_count": 6,
   "outputs": [
    {
     "name": "stdout",
     "output_type": "stream",
     "text": [
      "{'day': {0: 'Monday', 1: 'Tuesday', 2: 'Wednesday', 3: 'Thursday', 4: 'Friday', 5: 'Saturday', 6: 'Sunday'}, 'temp': {0: 12, 1: 14, 2: 15, 3: 14, 4: 21, 5: 22, 6: 24}, 'condition': {0: 'Sunny', 1: 'Rain', 2: 'Rain', 3: 'Cloudy', 4: 'Sunny', 5: 'Sunny', 6: 'Sunny'}}\n"
     ]
    }
   ],
   "source": [
    "# This will convert the 'DataFrame' object to a dictionary\n",
    "data_dict = data.to_dict()\n",
    "print(data_dict)"
   ],
   "metadata": {
    "collapsed": false,
    "pycharm": {
     "name": "#%%\n"
    }
   }
  },
  {
   "cell_type": "code",
   "execution_count": 7,
   "outputs": [
    {
     "name": "stdout",
     "output_type": "stream",
     "text": [
      "[12, 14, 15, 14, 21, 22, 24]\n"
     ]
    }
   ],
   "source": [
    "# This will convert the 'DataFrame' object to a list of temperature values\n",
    "temp_list = data[\"temp\"].tolist()\n",
    "print(temp_list)"
   ],
   "metadata": {
    "collapsed": false,
    "pycharm": {
     "name": "#%%\n"
    }
   }
  },
  {
   "cell_type": "code",
   "execution_count": 8,
   "outputs": [
    {
     "name": "stdout",
     "output_type": "stream",
     "text": [
      "17.428571428571427\n"
     ]
    }
   ],
   "source": [
    "# Calculate the average temperature\n",
    "average_temp = sum(temp_list) / len(temp_list)\n",
    "print(average_temp)"
   ],
   "metadata": {
    "collapsed": false,
    "pycharm": {
     "name": "#%%\n"
    }
   }
  },
  {
   "cell_type": "code",
   "execution_count": 9,
   "outputs": [
    {
     "name": "stdout",
     "output_type": "stream",
     "text": [
      "17.428571428571427\n"
     ]
    }
   ],
   "source": [
    "# Calculate the average temperature using .mean() method on the 'Series' object\n",
    "average_temp = data[\"temp\"].mean()\n",
    "print(average_temp)"
   ],
   "metadata": {
    "collapsed": false,
    "pycharm": {
     "name": "#%%\n"
    }
   }
  },
  {
   "cell_type": "code",
   "execution_count": 10,
   "outputs": [
    {
     "name": "stdout",
     "output_type": "stream",
     "text": [
      "24\n"
     ]
    }
   ],
   "source": [
    "# Calculate the maximum temperature using .max() method on the 'Series' object\n",
    "max_temp = data[\"temp\"].max()\n",
    "print(max_temp)"
   ],
   "metadata": {
    "collapsed": false,
    "pycharm": {
     "name": "#%%\n"
    }
   }
  },
  {
   "cell_type": "code",
   "execution_count": 11,
   "outputs": [
    {
     "name": "stdout",
     "output_type": "stream",
     "text": [
      "0     Sunny\n",
      "1      Rain\n",
      "2      Rain\n",
      "3    Cloudy\n",
      "4     Sunny\n",
      "5     Sunny\n",
      "6     Sunny\n",
      "Name: condition, dtype: object\n"
     ]
    }
   ],
   "source": [
    "# Get the data in the 'condition' column\n",
    "conditions = data[\"condition\"]\n",
    "print(conditions)"
   ],
   "metadata": {
    "collapsed": false,
    "pycharm": {
     "name": "#%%\n"
    }
   }
  },
  {
   "cell_type": "code",
   "execution_count": 12,
   "outputs": [
    {
     "name": "stdout",
     "output_type": "stream",
     "text": [
      "0     Sunny\n",
      "1      Rain\n",
      "2      Rain\n",
      "3    Cloudy\n",
      "4     Sunny\n",
      "5     Sunny\n",
      "6     Sunny\n",
      "Name: condition, dtype: object\n"
     ]
    }
   ],
   "source": [
    "# Get the data in the 'condition' column by using dot notation\n",
    "conditions = data.condition\n",
    "print(conditions)"
   ],
   "metadata": {
    "collapsed": false,
    "pycharm": {
     "name": "#%%\n"
    }
   }
  },
  {
   "cell_type": "code",
   "execution_count": 13,
   "outputs": [
    {
     "name": "stdout",
     "output_type": "stream",
     "text": [
      "      day  temp condition\n",
      "0  Monday    12     Sunny\n"
     ]
    }
   ],
   "source": [
    "# Get data in row where temp = 12\n",
    "print(data[data.temp == 12.0])"
   ],
   "metadata": {
    "collapsed": false,
    "pycharm": {
     "name": "#%%\n"
    }
   }
  },
  {
   "cell_type": "code",
   "execution_count": 14,
   "outputs": [
    {
     "name": "stdout",
     "output_type": "stream",
     "text": [
      "      day  temp condition\n",
      "6  Sunday    24     Sunny\n"
     ]
    }
   ],
   "source": [
    "# Get data in row where temp is at maximum\n",
    "print(data[data.temp == data.temp.max()])"
   ],
   "metadata": {
    "collapsed": false,
    "pycharm": {
     "name": "#%%\n"
    }
   }
  },
  {
   "cell_type": "code",
   "execution_count": 15,
   "outputs": [
    {
     "name": "stdout",
     "output_type": "stream",
     "text": [
      "12\n"
     ]
    }
   ],
   "source": [
    "data = pd.read_csv(\"weather_data.csv\")\n",
    "\n",
    "# Clean the heading of the 'DataFrame' object\n",
    "data.columns = data.columns.str.strip()\n",
    "\n",
    "# Get the temp on Monday\n",
    "monday = data[data.day == \"Monday\"]\n",
    "monday_temp = int(monday.temp)\n",
    "print(monday_temp)"
   ],
   "metadata": {
    "collapsed": false,
    "pycharm": {
     "name": "#%%\n"
    }
   }
  },
  {
   "cell_type": "markdown",
   "source": [
    "# Create a DataFrame from a dictionary"
   ],
   "metadata": {
    "collapsed": false,
    "pycharm": {
     "name": "#%% md\n"
    }
   }
  },
  {
   "cell_type": "code",
   "execution_count": 16,
   "outputs": [
    {
     "name": "stdout",
     "output_type": "stream",
     "text": [
      "         day  temp condition\n",
      "0     Monday    12     sunny\n",
      "1    Tuesday    13     sunny\n",
      "2  Wednesday    14     sunny\n",
      "3   Thursday    15     sunny\n",
      "4     Friday    16     sunny\n",
      "5   Saturday    17     sunny\n",
      "6     Sunday    18     sunny\n"
     ]
    }
   ],
   "source": [
    "data_dict = {\n",
    "    \"day\": [\"Monday\", \"Tuesday\", \"Wednesday\", \"Thursday\", \"Friday\", \"Saturday\", \"Sunday\"],\n",
    "    \"temp\": [12, 13, 14, 15, 16, 17, 18],\n",
    "    \"condition\": [\"sunny\", \"sunny\", \"sunny\", \"sunny\", \"sunny\", \"sunny\", \"sunny\"],\n",
    "}\n",
    "\n",
    "data = pd.DataFrame(data_dict)\n",
    "print(data)"
   ],
   "metadata": {
    "collapsed": false,
    "pycharm": {
     "name": "#%%\n"
    }
   }
  },
  {
   "cell_type": "code",
   "execution_count": 17,
   "outputs": [],
   "source": [
    "# Convert to csv file\n",
    "data.to_csv(\"weather_data_new.csv\")"
   ],
   "metadata": {
    "collapsed": false,
    "pycharm": {
     "name": "#%%\n"
    }
   }
  },
  {
   "cell_type": "markdown",
   "source": [
    "# The Great Squirrel Census Data Analysis (with Pandas!)"
   ],
   "metadata": {
    "collapsed": false,
    "pycharm": {
     "name": "#%% md\n"
    }
   }
  },
  {
   "cell_type": "code",
   "execution_count": 28,
   "outputs": [
    {
     "name": "stdout",
     "output_type": "stream",
     "text": [
      "Cinnamon Squirrels: 392\n",
      "Gray Squirrels: 2473\n",
      "Black Squirrels: 103\n"
     ]
    }
   ],
   "source": [
    "# Get data from the csv file\n",
    "data = pd.read_csv(\"Squirrel_Data.csv\")\n",
    "\n",
    "# Get the Primary Fur Color column where the color = red\n",
    "cinnamon_squirrels = data[data[\"Primary Fur Color\"] == \"Cinnamon\"]\n",
    "gray_squirrels = data[data[\"Primary Fur Color\"] == \"Gray\"]\n",
    "black_squirrels = data[data[\"Primary Fur Color\"] == \"Black\"]\n",
    "\n",
    "# Count the number of squirrels in each color\n",
    "cinnamon_squirrels_count = len(cinnamon_squirrels)\n",
    "gray_squirrels_count = len(gray_squirrels)\n",
    "black_squirrels_count = len(black_squirrels)\n",
    "\n",
    "# Print the results\n",
    "print(\"Cinnamon Squirrels:\", cinnamon_squirrels_count)\n",
    "print(\"Gray Squirrels:\", gray_squirrels_count)\n",
    "print(\"Black Squirrels:\", black_squirrels_count)"
   ],
   "metadata": {
    "collapsed": false,
    "pycharm": {
     "name": "#%%\n"
    }
   }
  },
  {
   "cell_type": "code",
   "execution_count": 31,
   "outputs": [
    {
     "name": "stdout",
     "output_type": "stream",
     "text": [
      "{'cinnamon': 392, 'gray': 2473, 'black': 103}\n",
      "       cinnamon  gray  black\n",
      "count       392  2473    103\n"
     ]
    }
   ],
   "source": [
    "# Create a dictionary of the results\n",
    "results = {\n",
    "    \"cinnamon\": cinnamon_squirrels_count,\n",
    "    \"gray\": gray_squirrels_count,\n",
    "    \"black\": black_squirrels_count,\n",
    "}\n",
    "print(results)\n",
    "\n",
    "# Create a DataFrame from the dictionary\n",
    "df = pd.DataFrame(results, index=[\"count\"])\n",
    "print(df)\n",
    "\n",
    "# Construct to a csv file\n",
    "df.to_csv(\"Squirrel_Data_new.csv\")"
   ],
   "metadata": {
    "collapsed": false,
    "pycharm": {
     "name": "#%%\n"
    }
   }
  },
  {
   "cell_type": "code",
   "execution_count": null,
   "outputs": [],
   "source": [],
   "metadata": {
    "collapsed": false,
    "pycharm": {
     "name": "#%%\n"
    }
   }
  }
 ],
 "metadata": {
  "kernelspec": {
   "display_name": "Python 3",
   "language": "python",
   "name": "python3"
  },
  "language_info": {
   "codemirror_mode": {
    "name": "ipython",
    "version": 2
   },
   "file_extension": ".py",
   "mimetype": "text/x-python",
   "name": "python",
   "nbconvert_exporter": "python",
   "pygments_lexer": "ipython2",
   "version": "2.7.6"
  }
 },
 "nbformat": 4,
 "nbformat_minor": 0
}