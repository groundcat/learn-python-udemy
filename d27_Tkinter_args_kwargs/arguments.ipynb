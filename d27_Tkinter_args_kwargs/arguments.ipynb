{
 "cells": [
  {
   "cell_type": "markdown",
   "source": [
    "# *args - Unlimited Arguments (Many Positional Arguments)"
   ],
   "metadata": {
    "collapsed": false,
    "pycharm": {
     "name": "#%% md\n"
    }
   }
  },
  {
   "cell_type": "code",
   "execution_count": 2,
   "outputs": [
    {
     "name": "stdout",
     "output_type": "stream",
     "text": [
      "<class 'tuple'>\n",
      "15\n",
      "<class 'tuple'>\n",
      "55\n"
     ]
    }
   ],
   "source": [
    "def add(*args):\n",
    "\n",
    "    print(type(args))  # args is a tuple\n",
    "\n",
    "    total = 0\n",
    "    for i in args:\n",
    "        total += i\n",
    "    return total\n",
    "\n",
    "print(add(1,2,3,4,5))\n",
    "print(add(1,2,3,4,5,6,7,8,9,10))"
   ],
   "metadata": {
    "collapsed": false,
    "pycharm": {
     "name": "#%%\n"
    }
   }
  },
  {
   "cell_type": "markdown",
   "source": [
    "# **kwargs - Many Keyword Arguments"
   ],
   "metadata": {
    "collapsed": false,
    "pycharm": {
     "name": "#%% md\n"
    }
   }
  },
  {
   "cell_type": "code",
   "execution_count": 4,
   "outputs": [
    {
     "name": "stdout",
     "output_type": "stream",
     "text": [
      "<class 'dict'>\n",
      "name : John\n",
      "age : 30\n",
      "height : 6.5\n",
      "weight : 65\n"
     ]
    }
   ],
   "source": [
    "def people(**kwargs):\n",
    "\n",
    "    print(type(kwargs))  # kwargs is a dictionary\n",
    "\n",
    "    for key, value in kwargs.items():\n",
    "        print(f\"{key} : {value}\")\n",
    "\n",
    "people(name=\"John\", age=30, height=6.5, weight=65)"
   ],
   "metadata": {
    "collapsed": false,
    "pycharm": {
     "name": "#%%\n"
    }
   }
  },
  {
   "cell_type": "code",
   "execution_count": 5,
   "outputs": [
    {
     "name": "stdout",
     "output_type": "stream",
     "text": [
      "15\n"
     ]
    }
   ],
   "source": [
    "def calculate(n, **kwargs):\n",
    "    n += kwargs.get(\"add\", 0)\n",
    "    n -= kwargs.get(\"sub\", 0)\n",
    "    return n\n",
    "\n",
    "print(calculate(10, add=10, sub=5))"
   ],
   "metadata": {
    "collapsed": false,
    "pycharm": {
     "name": "#%%\n"
    }
   }
  },
  {
   "cell_type": "code",
   "execution_count": 7,
   "outputs": [
    {
     "name": "stdout",
     "output_type": "stream",
     "text": [
      "Ford\n",
      "Fusion\n"
     ]
    }
   ],
   "source": [
    "class Car:\n",
    "\n",
    "    def __init__(self, **kw):\n",
    "        self.make = kw[\"make\"]\n",
    "        self.model = kw[\"model\"]\n",
    "\n",
    "my_car = Car(make=\"Ford\", model=\"Fusion\")\n",
    "print(my_car.make)\n",
    "print(my_car.model)"
   ],
   "metadata": {
    "collapsed": false,
    "pycharm": {
     "name": "#%%\n"
    }
   }
  },
  {
   "cell_type": "code",
   "execution_count": 9,
   "outputs": [
    {
     "name": "stdout",
     "output_type": "stream",
     "text": [
      "15\n",
      "Ford\n",
      "None\n"
     ]
    }
   ],
   "source": [
    "print(calculate(10, add=10, sub=5))\n",
    "\n",
    "\n",
    "class Car:\n",
    "\n",
    "    def __init__(self, **kw):\n",
    "\n",
    "        # get() method returns the value of the key, won't throw an error if the key doesn't exist\n",
    "        self.make = kw.get(\"make\")\n",
    "        self.model = kw.get(\"model\")\n",
    "        self.model = kw.get(\"year\")\n",
    "        self.model = kw.get(\"color\")\n",
    "\n",
    "my_car = Car(make=\"Ford\", model=\"Fusion\")\n",
    "print(my_car.make)\n",
    "print(my_car.model)"
   ],
   "metadata": {
    "collapsed": false,
    "pycharm": {
     "name": "#%%\n"
    }
   }
  },
  {
   "cell_type": "code",
   "execution_count": 10,
   "outputs": [
    {
     "name": "stdout",
     "output_type": "stream",
     "text": [
      "4 (7, 3, 0) {'x': 10, 'y': 64}\n"
     ]
    }
   ],
   "source": [
    "# *args and **kwargs can be used together\n",
    "\n",
    "def all_aboard(a, *args, **kw):\n",
    "    print(a, args, kw)\n",
    "\n",
    "all_aboard(4, 7, 3, 0, x=10, y=64)"
   ],
   "metadata": {
    "collapsed": false,
    "pycharm": {
     "name": "#%%\n"
    }
   }
  }
 ],
 "metadata": {
  "kernelspec": {
   "display_name": "Python 3",
   "language": "python",
   "name": "python3"
  },
  "language_info": {
   "codemirror_mode": {
    "name": "ipython",
    "version": 2
   },
   "file_extension": ".py",
   "mimetype": "text/x-python",
   "name": "python",
   "nbconvert_exporter": "python",
   "pygments_lexer": "ipython2",
   "version": "2.7.6"
  }
 },
 "nbformat": 4,
 "nbformat_minor": 0
}